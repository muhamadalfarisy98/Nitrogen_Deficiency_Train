{
 "cells": [
  {
   "cell_type": "markdown",
   "metadata": {},
   "source": [
    "# Training TA: Prediksi Nitrogen lettuce (lactuca sativa L.)"
   ]
  },
  {
   "cell_type": "markdown",
   "metadata": {},
   "source": [
    "*Author : Muhamad Alfarisy\n",
    "26 Mei 2020"
   ]
  },
  {
   "cell_type": "code",
   "execution_count": 3,
   "metadata": {
    "colab": {
     "base_uri": "https://localhost:8080/",
     "height": 34
    },
    "colab_type": "code",
    "id": "UbR4zmVj0Y-V",
    "outputId": "0e385ee5-1cff-40aa-e0c9-af620d8bfd72"
   },
   "outputs": [],
   "source": [
    "#cek current working directory\n",
    "import os\n",
    "import pandas as pd\n",
    "# To Do: Import numpy packages and linear regression classes from scikit-learn linear model\n",
    "import numpy as np\n",
    "from sklearn.linear_model import LinearRegression\n",
    "# To Do: Import matplotlib for visualization\n",
    "import matplotlib.pyplot as plt\n",
    "from mpl_toolkits.mplot3d import Axes3D\n",
    "import seaborn as sns"
   ]
  },
  {
   "cell_type": "code",
   "execution_count": 4,
   "metadata": {},
   "outputs": [
    {
     "name": "stdout",
     "output_type": "stream",
     "text": [
      "C:\\Users\\HP\\Desktop\\Training Test\n"
     ]
    }
   ],
   "source": [
    "print(os.getcwd())"
   ]
  },
  {
   "cell_type": "code",
   "execution_count": 5,
   "metadata": {
    "colab": {},
    "colab_type": "code",
    "id": "xeb4DXCH0eyk"
   },
   "outputs": [
    {
     "name": "stdout",
     "output_type": "stream",
     "text": [
      "['.ipynb_checkpoints', 'A173_EN.pdf', 'IMG20200213094616.jpg', 'IMG20200213094905.jpg', 'IMG20200213094908.jpg', 'IMG20200213095927.jpg', 'IMG20200213103015.jpg', 'IMG20200213103017.jpg', 'IMG20200213103018.jpg', 'IMG20200213103024.jpg', 'orde2.jpg', 'orde3.jpg', 'orde4.jpg', 'orde5.jpg', 'Progrep ^0 Diskusi TA192001019.pdf', 'Progrep ^0 Diskusi TA192001019.pptx', 'Selada N optimum range.pdf', 'Train.csv', 'Train.xlsx', 'Training Data_TA.xlsx', 'Training-Data_TA.csv', 'Training_TA.ipynb', 'Train_TA.csv', 'Untitled.ipynb']\n"
     ]
    }
   ],
   "source": [
    "print(os.listdir(os.getcwd()))"
   ]
  },
  {
   "cell_type": "code",
   "execution_count": 58,
   "metadata": {},
   "outputs": [],
   "source": [
    "#load file using relative path\n",
    "train_TA=pd.read_csv('Train_TA.csv')\n"
   ]
  },
  {
   "cell_type": "code",
   "execution_count": 7,
   "metadata": {},
   "outputs": [
    {
     "data": {
      "text/html": [
       "<div>\n",
       "<style scoped>\n",
       "    .dataframe tbody tr th:only-of-type {\n",
       "        vertical-align: middle;\n",
       "    }\n",
       "\n",
       "    .dataframe tbody tr th {\n",
       "        vertical-align: top;\n",
       "    }\n",
       "\n",
       "    .dataframe thead th {\n",
       "        text-align: right;\n",
       "    }\n",
       "</style>\n",
       "<table border=\"1\" class=\"dataframe\">\n",
       "  <thead>\n",
       "    <tr style=\"text-align: right;\">\n",
       "      <th></th>\n",
       "      <th>Hue</th>\n",
       "      <th>N-Total</th>\n",
       "    </tr>\n",
       "  </thead>\n",
       "  <tbody>\n",
       "    <tr>\n",
       "      <td>0</td>\n",
       "      <td>42.343271</td>\n",
       "      <td>4.189489</td>\n",
       "    </tr>\n",
       "    <tr>\n",
       "      <td>1</td>\n",
       "      <td>42.531092</td>\n",
       "      <td>4.270558</td>\n",
       "    </tr>\n",
       "    <tr>\n",
       "      <td>2</td>\n",
       "      <td>42.464525</td>\n",
       "      <td>4.334244</td>\n",
       "    </tr>\n",
       "    <tr>\n",
       "      <td>3</td>\n",
       "      <td>39.618152</td>\n",
       "      <td>4.484251</td>\n",
       "    </tr>\n",
       "    <tr>\n",
       "      <td>4</td>\n",
       "      <td>39.517261</td>\n",
       "      <td>4.420335</td>\n",
       "    </tr>\n",
       "    <tr>\n",
       "      <td>5</td>\n",
       "      <td>39.070430</td>\n",
       "      <td>4.360048</td>\n",
       "    </tr>\n",
       "    <tr>\n",
       "      <td>6</td>\n",
       "      <td>36.991381</td>\n",
       "      <td>5.060319</td>\n",
       "    </tr>\n",
       "    <tr>\n",
       "      <td>7</td>\n",
       "      <td>36.815625</td>\n",
       "      <td>4.919952</td>\n",
       "    </tr>\n",
       "    <tr>\n",
       "      <td>8</td>\n",
       "      <td>36.546455</td>\n",
       "      <td>4.857503</td>\n",
       "    </tr>\n",
       "    <tr>\n",
       "      <td>9</td>\n",
       "      <td>37.582824</td>\n",
       "      <td>4.652669</td>\n",
       "    </tr>\n",
       "    <tr>\n",
       "      <td>10</td>\n",
       "      <td>38.180077</td>\n",
       "      <td>4.599649</td>\n",
       "    </tr>\n",
       "    <tr>\n",
       "      <td>11</td>\n",
       "      <td>38.666166</td>\n",
       "      <td>4.626159</td>\n",
       "    </tr>\n",
       "    <tr>\n",
       "      <td>12</td>\n",
       "      <td>32.185879</td>\n",
       "      <td>2.284263</td>\n",
       "    </tr>\n",
       "    <tr>\n",
       "      <td>13</td>\n",
       "      <td>31.670594</td>\n",
       "      <td>2.340965</td>\n",
       "    </tr>\n",
       "    <tr>\n",
       "      <td>14</td>\n",
       "      <td>31.779301</td>\n",
       "      <td>2.312614</td>\n",
       "    </tr>\n",
       "    <tr>\n",
       "      <td>15</td>\n",
       "      <td>31.003783</td>\n",
       "      <td>1.495946</td>\n",
       "    </tr>\n",
       "    <tr>\n",
       "      <td>16</td>\n",
       "      <td>30.989498</td>\n",
       "      <td>1.524059</td>\n",
       "    </tr>\n",
       "    <tr>\n",
       "      <td>17</td>\n",
       "      <td>31.017214</td>\n",
       "      <td>1.524059</td>\n",
       "    </tr>\n",
       "  </tbody>\n",
       "</table>\n",
       "</div>"
      ],
      "text/plain": [
       "          Hue   N-Total\n",
       "0   42.343271  4.189489\n",
       "1   42.531092  4.270558\n",
       "2   42.464525  4.334244\n",
       "3   39.618152  4.484251\n",
       "4   39.517261  4.420335\n",
       "5   39.070430  4.360048\n",
       "6   36.991381  5.060319\n",
       "7   36.815625  4.919952\n",
       "8   36.546455  4.857503\n",
       "9   37.582824  4.652669\n",
       "10  38.180077  4.599649\n",
       "11  38.666166  4.626159\n",
       "12  32.185879  2.284263\n",
       "13  31.670594  2.340965\n",
       "14  31.779301  2.312614\n",
       "15  31.003783  1.495946\n",
       "16  30.989498  1.524059\n",
       "17  31.017214  1.524059"
      ]
     },
     "execution_count": 7,
     "metadata": {},
     "output_type": "execute_result"
    }
   ],
   "source": [
    "train_TA"
   ]
  },
  {
   "cell_type": "code",
   "execution_count": 8,
   "metadata": {},
   "outputs": [],
   "source": [
    "x=train_TA[\"Hue\"]\n",
    "y=train_TA[\"N-Total\"]"
   ]
  },
  {
   "cell_type": "code",
   "execution_count": 9,
   "metadata": {},
   "outputs": [
    {
     "name": "stdout",
     "output_type": "stream",
     "text": [
      "0     42.343271\n",
      "1     42.531092\n",
      "2     42.464525\n",
      "3     39.618152\n",
      "4     39.517261\n",
      "5     39.070430\n",
      "6     36.991381\n",
      "7     36.815625\n",
      "8     36.546455\n",
      "9     37.582824\n",
      "10    38.180077\n",
      "11    38.666166\n",
      "12    32.185879\n",
      "13    31.670594\n",
      "14    31.779301\n",
      "15    31.003783\n",
      "16    30.989498\n",
      "17    31.017214\n",
      "Name: Hue, dtype: float64\n"
     ]
    }
   ],
   "source": [
    "print(x)"
   ]
  },
  {
   "cell_type": "code",
   "execution_count": 10,
   "metadata": {},
   "outputs": [
    {
     "name": "stdout",
     "output_type": "stream",
     "text": [
      "0     4.189489\n",
      "1     4.270558\n",
      "2     4.334244\n",
      "3     4.484251\n",
      "4     4.420335\n",
      "5     4.360048\n",
      "6     5.060319\n",
      "7     4.919952\n",
      "8     4.857503\n",
      "9     4.652669\n",
      "10    4.599649\n",
      "11    4.626159\n",
      "12    2.284263\n",
      "13    2.340965\n",
      "14    2.312614\n",
      "15    1.495946\n",
      "16    1.524059\n",
      "17    1.524059\n",
      "Name: N-Total, dtype: float64\n"
     ]
    }
   ],
   "source": [
    "print(y)"
   ]
  },
  {
   "cell_type": "code",
   "execution_count": 74,
   "metadata": {},
   "outputs": [
    {
     "data": {
      "image/png": "[encoded data removed]",
      "text/plain": [
       "<Figure size 432x288 with 1 Axes>"
      ]
     },
     "metadata": {
      "needs_background": "light"
     },
     "output_type": "display_data"
    }
   ],
   "source": [
    "#plot regressor and predictor\n",
    "plt.scatter(x,y,color='red')\n",
    "plt.title('Nitrogen Prediction')\n",
    "plt.xlabel('Mean Hue')\n",
    "plt.ylabel('Nitrogen')\n",
    "plt.show()"
   ]
  },
  {
   "cell_type": "code",
   "execution_count": 12,
   "metadata": {},
   "outputs": [
    {
     "name": "stdout",
     "output_type": "stream",
     "text": [
      "[42.34327144 42.53109218 42.46452495 39.61815209 39.51726143 39.07042991\n",
      " 36.9913815  36.81562533 36.54645493 37.58282383 38.18007705 38.66616649\n",
      " 32.18587949 31.67059374 31.77930135 31.00378252 30.98949806 31.01721384]\n"
     ]
    }
   ],
   "source": [
    "x=np.array(x)\n",
    "print(x)"
   ]
  },
  {
   "cell_type": "code",
   "execution_count": 13,
   "metadata": {},
   "outputs": [
    {
     "name": "stdout",
     "output_type": "stream",
     "text": [
      "[4.18948882 4.27055821 4.33424351 4.4842509  4.4203352  4.36004787\n",
      " 5.06031898 4.9199521  4.85750299 4.65266853 4.59964856 4.62615855\n",
      " 2.28426347 2.3409653  2.31261438 1.49594562 1.52405913 1.52405913]\n"
     ]
    }
   ],
   "source": [
    "y=np.array(y)\n",
    "print(y)"
   ]
  },
  {
   "cell_type": "code",
   "execution_count": 14,
   "metadata": {},
   "outputs": [],
   "source": [
    "# To Do: Create linear regression model\n",
    "model = LinearRegression()"
   ]
  },
  {
   "cell_type": "code",
   "execution_count": 15,
   "metadata": {},
   "outputs": [
    {
     "name": "stdout",
     "output_type": "stream",
     "text": [
      "[[42.34327144]\n",
      " [42.53109218]\n",
      " [42.46452495]\n",
      " [39.61815209]\n",
      " [39.51726143]\n",
      " [39.07042991]\n",
      " [36.9913815 ]\n",
      " [36.81562533]\n",
      " [36.54645493]\n",
      " [37.58282383]\n",
      " [38.18007705]\n",
      " [38.66616649]\n",
      " [32.18587949]\n",
      " [31.67059374]\n",
      " [31.77930135]\n",
      " [31.00378252]\n",
      " [30.98949806]\n",
      " [31.01721384]]\n"
     ]
    }
   ],
   "source": [
    "# To Do: Reshape regressor to meet the requirement\n",
    "x = x.reshape((-1,1))\n",
    "print(x)"
   ]
  },
  {
   "cell_type": "code",
   "execution_count": 16,
   "metadata": {},
   "outputs": [
    {
     "data": {
      "text/plain": [
       "LinearRegression(copy_X=True, fit_intercept=True, n_jobs=None, normalize=False)"
      ]
     },
     "execution_count": 16,
     "metadata": {},
     "output_type": "execute_result"
    }
   ],
   "source": [
    "# To Do: Fit the data to the model. Error? What will we do?\n",
    "model.fit(x,y)"
   ]
  },
  {
   "cell_type": "code",
   "execution_count": 17,
   "metadata": {},
   "outputs": [],
   "source": [
    "# To Do: Reshape regressor to meet the requirement\n",
    "#x = x.reshape((-1,1))"
   ]
  },
  {
   "cell_type": "code",
   "execution_count": 18,
   "metadata": {},
   "outputs": [
    {
     "name": "stdout",
     "output_type": "stream",
     "text": [
      "X is : \n",
      "\n",
      "[[42.34327144]\n",
      " [42.53109218]\n",
      " [42.46452495]\n",
      " [39.61815209]\n",
      " [39.51726143]\n",
      " [39.07042991]\n",
      " [36.9913815 ]\n",
      " [36.81562533]\n",
      " [36.54645493]\n",
      " [37.58282383]\n",
      " [38.18007705]\n",
      " [38.66616649]\n",
      " [32.18587949]\n",
      " [31.67059374]\n",
      " [31.77930135]\n",
      " [31.00378252]\n",
      " [30.98949806]\n",
      " [31.01721384]]\n",
      "[4.18948882 4.27055821 4.33424351 4.4842509  4.4203352  4.36004787\n",
      " 5.06031898 4.9199521  4.85750299 4.65266853 4.59964856 4.62615855\n",
      " 2.28426347 2.3409653  2.31261438 1.49594562 1.52405913 1.52405913]\n"
     ]
    }
   ],
   "source": [
    "print('X is : \\n')\n",
    "print(x)\n",
    "print(y)"
   ]
  },
  {
   "cell_type": "code",
   "execution_count": 19,
   "metadata": {},
   "outputs": [
    {
     "data": {
      "image/png": "[encoded data removed]",
      "text/plain": [
       "<Figure size 432x288 with 1 Axes>"
      ]
     },
     "metadata": {
      "needs_background": "light"
     },
     "output_type": "display_data"
    }
   ],
   "source": [
    "# To Do: Plot regressor and predictor\n",
    "plt.scatter(x,y,color='blue')\n",
    "plt.title('Unplotted prediction')\n",
    "plt.xlabel('Regressor')\n",
    "plt.ylabel('Predictor')\n",
    "plt.show()"
   ]
  },
  {
   "cell_type": "code",
   "execution_count": 20,
   "metadata": {},
   "outputs": [
    {
     "name": "stdout",
     "output_type": "stream",
     "text": [
      "R-squared: 0.6781306961740619\n"
     ]
    }
   ],
   "source": [
    "# To Do: Calculate model score Regresi Linear\n",
    "score = model.score(x,y)\n",
    "print('R-squared:', score) # R-squared"
   ]
  },
  {
   "cell_type": "code",
   "execution_count": 21,
   "metadata": {},
   "outputs": [
    {
     "name": "stdout",
     "output_type": "stream",
     "text": [
      "intercepnya: -5.911709277437631\n",
      "slope: [0.26202547]\n",
      "y = [0.26202547]x + -5.911709277437631\n"
     ]
    }
   ],
   "source": [
    "b0=model.intercept_\n",
    "print('intercepnya:', b0)\n",
    "b1=model.coef_\n",
    "print('slope:', b1)\n",
    "print('y = {a}x + {c}'.format(a=b1,c=b0))"
   ]
  },
  {
   "cell_type": "code",
   "execution_count": 22,
   "metadata": {},
   "outputs": [
    {
     "name": "stdout",
     "output_type": "stream",
     "text": [
      "predicted response:\n",
      "[5.18330628 5.2325201  5.21507779 4.4692556  4.44281968 4.32573844\n",
      " 3.78097481 3.73492221 3.66439271 3.93594776 4.09244331 4.21981113\n",
      " 2.52181089 2.3867929  2.41527706 2.21207138 2.20832848 2.21559072]\n"
     ]
    }
   ],
   "source": [
    "# To Do: Calculate predictions using regressor data as input\n",
    "y_pred = model.predict(x)\n",
    "print('predicted response:', y_pred, sep='\\n')"
   ]
  },
  {
   "cell_type": "code",
   "execution_count": 75,
   "metadata": {},
   "outputs": [
    {
     "data": {
      "image/png": "[encoded data removed]",
      "text/plain": [
       "<Figure size 432x288 with 1 Axes>"
      ]
     },
     "metadata": {
      "needs_background": "light"
     },
     "output_type": "display_data"
    }
   ],
   "source": [
    "# To Do: Plot regressor, predictor, and result of prediction\n",
    "plt.scatter(x,y,color='black',label='dataset')\n",
    "plt.plot(x,y_pred,color='red',linewidth=3,label='fitted line')\n",
    "plt.title('Nitrogen Prediction')\n",
    "plt.xlabel('Mean Hue')\n",
    "plt.ylabel('Nitrogen')\n",
    "plt.legend()\n",
    "plt.show()"
   ]
  },
  {
   "cell_type": "markdown",
   "metadata": {},
   "source": [
    "# Polynomial Regression\n"
   ]
  },
  {
   "cell_type": "code",
   "execution_count": null,
   "metadata": {},
   "outputs": [],
   "source": [
    "# To Do: Import polynomial transformation class from scikit-learn\n",
    "from sklearn.preprocessing import PolynomialFeatures"
   ]
  },
  {
   "cell_type": "code",
   "execution_count": null,
   "metadata": {},
   "outputs": [],
   "source": [
    "x=train_TA[\"Hue\"]\n",
    "y=train_TA[\"N-Total\"]"
   ]
  },
  {
   "cell_type": "code",
   "execution_count": null,
   "metadata": {},
   "outputs": [],
   "source": [
    "# To Do: Create polynomial features \n",
    "#transformer = PolynomialFeatures(degree=3,include_bias=False)\n",
    "transformer = PolynomialFeatures(degree=2)"
   ]
  },
  {
   "cell_type": "code",
   "execution_count": null,
   "metadata": {},
   "outputs": [],
   "source": [
    "#Ubah ke vektor array\n",
    "x=np.array(x)\n",
    "y=np.array(y)"
   ]
  },
  {
   "cell_type": "code",
   "execution_count": null,
   "metadata": {},
   "outputs": [],
   "source": [
    "# To Do: Reshape regressor to meet the requirement\n",
    "x = x.reshape((-1,1))\n",
    "print(x)"
   ]
  },
  {
   "cell_type": "code",
   "execution_count": null,
   "metadata": {},
   "outputs": [],
   "source": [
    "# To Do: Fit the data to transformer\n",
    "transformer.fit(x)\n",
    "print(transformer.fit(x))"
   ]
  },
  {
   "cell_type": "code",
   "execution_count": null,
   "metadata": {},
   "outputs": [],
   "source": [
    "# To Do: transform input data for polynomial\n",
    "x_ = transformer.transform(x)"
   ]
  },
  {
   "cell_type": "code",
   "execution_count": null,
   "metadata": {},
   "outputs": [],
   "source": [
    "# To Do: Check the shape of regressor and predictor\n",
    "print(x_)\n",
    "print(\"\\n\")\n",
    "print(y)"
   ]
  },
  {
   "cell_type": "code",
   "execution_count": null,
   "metadata": {},
   "outputs": [],
   "source": [
    "# To Do: Fit the transofrmed data to the model\n",
    "model = LinearRegression()\n",
    "model.fit(x_,y)"
   ]
  },
  {
   "cell_type": "code",
   "execution_count": null,
   "metadata": {},
   "outputs": [],
   "source": [
    "# To Do: Calculate model score Polynomial Orde 2\n",
    "score = model.score(x_,y)\n",
    "print('R-squared:', score)"
   ]
  },
  {
   "cell_type": "code",
   "execution_count": null,
   "metadata": {},
   "outputs": [],
   "source": [
    "plt.scatter(x,y,color='blue')\n",
    "\n",
    "plt.plot(x,model.predict(transformer.fit_transform(x)),color='red')\n",
    "plt.title('Polynomial regression')\n",
    "plt.xlabel('Mean Hue\\n\\n Orde dua')\n",
    "plt.ylabel('Nitrogen')"
   ]
  },
  {
   "cell_type": "code",
   "execution_count": null,
   "metadata": {},
   "outputs": [],
   "source": [
    "# To Do: Calculate b0 and b1\n",
    "b0 = model.intercept_\n",
    "print('intercept:', b0)\n",
    "b1 = model.coef_\n",
    "print('slope:', b1)"
   ]
  },
  {
   "cell_type": "code",
   "execution_count": null,
   "metadata": {},
   "outputs": [],
   "source": [
    "#y=-0.05128882x^2+3.98760094x-72.72191405485785"
   ]
  },
  {
   "cell_type": "code",
   "execution_count": null,
   "metadata": {},
   "outputs": [],
   "source": [
    "# To Do: Calculate predictions using regressor data as input\n",
    "y_pred = model.predict(x_)\n",
    "print('predicted response:', y_pred, sep='\\n')"
   ]
  },
  {
   "cell_type": "code",
   "execution_count": null,
   "metadata": {},
   "outputs": [],
   "source": [
    "h=(42.34327144*42.34327144)\n",
    "a=-0.05128882\n",
    "b=3.98760094\n",
    "i=42.34327144\n",
    "c=-72.72191405485785"
   ]
  },
  {
   "cell_type": "code",
   "execution_count": null,
   "metadata": {},
   "outputs": [],
   "source": [
    "hasil=(h*a)+(b*i)+c"
   ]
  },
  {
   "cell_type": "code",
   "execution_count": null,
   "metadata": {},
   "outputs": [],
   "source": [
    "print(hasil)"
   ]
  },
  {
   "cell_type": "markdown",
   "metadata": {},
   "source": [
    "# Split Data untuk Train (80%) dan Test(20%)"
   ]
  },
  {
   "cell_type": "markdown",
   "metadata": {},
   "source": [
    "to get asses the model's performance pada unseen data"
   ]
  },
  {
   "cell_type": "code",
   "execution_count": 71,
   "metadata": {},
   "outputs": [],
   "source": [
    "from sklearn.model_selection import train_test_split \n",
    "from sklearn.preprocessing import PolynomialFeatures\n",
    "from sklearn.model_selection import cross_val_predict\n",
    "from sklearn.metrics import mean_squared_error, r2_score\n",
    "import matplotlib.pyplot as plt"
   ]
  },
  {
   "cell_type": "code",
   "execution_count": 32,
   "metadata": {},
   "outputs": [],
   "source": [
    "x=train_TA[\"Hue\"]\n",
    "y=train_TA[\"N-Total\"]"
   ]
  },
  {
   "cell_type": "code",
   "execution_count": 33,
   "metadata": {},
   "outputs": [],
   "source": [
    "#Ubah ke vektor array\n",
    "x=np.array(x).reshape((-1,1))\n",
    "y=np.array(y)"
   ]
  },
  {
   "cell_type": "code",
   "execution_count": 47,
   "metadata": {},
   "outputs": [
    {
     "name": "stdout",
     "output_type": "stream",
     "text": [
      "[[42.34327144]\n",
      " [42.53109218]\n",
      " [42.46452495]\n",
      " [39.61815209]\n",
      " [39.51726143]\n",
      " [39.07042991]\n",
      " [36.9913815 ]\n",
      " [36.81562533]\n",
      " [36.54645493]\n",
      " [37.58282383]\n",
      " [38.18007705]\n",
      " [38.66616649]\n",
      " [32.18587949]\n",
      " [31.67059374]\n",
      " [31.77930135]\n",
      " [31.00378252]\n",
      " [30.98949806]\n",
      " [31.01721384]] [4.18948882 4.27055821 4.33424351 4.4842509  4.4203352  4.36004787\n",
      " 5.06031898 4.9199521  4.85750299 4.65266853 4.59964856 4.62615855\n",
      " 2.28426347 2.3409653  2.31261438 1.49594562 1.52405913 1.52405913]\n",
      "\n",
      "\n",
      "[4.18948882 4.27055821 4.33424351 4.4842509  4.4203352  4.36004787\n",
      " 5.06031898 4.9199521  4.85750299 4.65266853 4.59964856 4.62615855\n",
      " 2.28426347 2.3409653  2.31261438 1.49594562 1.52405913 1.52405913]\n"
     ]
    }
   ],
   "source": [
    "print(x ,y)\n",
    "print(\"\\n\")\n",
    "print(y)"
   ]
  },
  {
   "cell_type": "code",
   "execution_count": 51,
   "metadata": {},
   "outputs": [],
   "source": [
    "# To Do: Split data for training and testing\n",
    "X_train, X_test, y_train, y_test = train_test_split(x,y,test_size=0.3,random_state=20)\n"
   ]
  },
  {
   "cell_type": "code",
   "execution_count": 52,
   "metadata": {},
   "outputs": [
    {
     "name": "stdout",
     "output_type": "stream",
     "text": [
      "(12, 1)\n",
      "(6, 1)\n",
      "(12,)\n",
      "(6,)\n"
     ]
    }
   ],
   "source": [
    "# To Do: Make sure the X_train data shape\n",
    "print(X_train.shape)\n",
    "print(X_test.shape)\n",
    "print(y_train.shape)\n",
    "print(y_test.shape)"
   ]
  },
  {
   "cell_type": "code",
   "execution_count": 53,
   "metadata": {},
   "outputs": [
    {
     "name": "stdout",
     "output_type": "stream",
     "text": [
      "[[31.67059374]\n",
      " [42.34327144]\n",
      " [42.46452495]\n",
      " [36.81562533]\n",
      " [36.9913815 ]\n",
      " [39.51726143]\n",
      " [37.58282383]\n",
      " [38.18007705]\n",
      " [32.18587949]\n",
      " [30.98949806]\n",
      " [31.00378252]\n",
      " [39.61815209]]\n",
      "\n",
      "\n",
      "[2.3409653  4.18948882 4.33424351 4.9199521  5.06031898 4.4203352\n",
      " 4.65266853 4.59964856 2.28426347 1.52405913 1.49594562 4.4842509 ]\n",
      "\n",
      "\n",
      "[[31.01721384]\n",
      " [42.53109218]\n",
      " [39.07042991]\n",
      " [38.66616649]\n",
      " [36.54645493]\n",
      " [31.77930135]]\n",
      "\n",
      "\n",
      "[1.52405913 4.27055821 4.36004787 4.62615855 4.85750299 2.31261438]\n"
     ]
    }
   ],
   "source": [
    "print(X_train)\n",
    "print(\"\\n\")\n",
    "print(y_train)\n",
    "print(\"\\n\")\n",
    "print(X_test)\n",
    "print(\"\\n\")\n",
    "print(y_test)"
   ]
  },
  {
   "cell_type": "code",
   "execution_count": 68,
   "metadata": {},
   "outputs": [
    {
     "data": {
      "text/plain": [
       "LinearRegression(copy_X=True, fit_intercept=True, n_jobs=None, normalize=False)"
      ]
     },
     "execution_count": 68,
     "metadata": {},
     "output_type": "execute_result"
    }
   ],
   "source": [
    "# To Do: Create regressor and fit data train\n",
    "regressor = LinearRegression()\n",
    "#fitting the model (training model)\n",
    "regressor.fit(X_train,y_train)\n",
    "#after train model can be used to make predictions"
   ]
  },
  {
   "cell_type": "code",
   "execution_count": 116,
   "metadata": {},
   "outputs": [],
   "source": [
    "b=regressor.intercept_"
   ]
  },
  {
   "cell_type": "code",
   "execution_count": 117,
   "metadata": {},
   "outputs": [],
   "source": [
    "m=regressor.coef_"
   ]
  },
  {
   "cell_type": "code",
   "execution_count": 59,
   "metadata": {},
   "outputs": [
    {
     "name": "stdout",
     "output_type": "stream",
     "text": [
      "data train - R-squared: 0.6738109451827875\n"
     ]
    }
   ],
   "source": [
    "# To Do: Calculate model score for data train\n",
    "train_score = regressor.score(X_train,y_train)\n",
    "print('data train - R-squared:', train_score)"
   ]
  },
  {
   "cell_type": "code",
   "execution_count": 60,
   "metadata": {},
   "outputs": [
    {
     "name": "stdout",
     "output_type": "stream",
     "text": [
      "data test - R-squared: 0.6867077840424939\n"
     ]
    }
   ],
   "source": [
    "# To Do: Calculate model score for data test\n",
    "test_score = regressor.score(X_test,y_test)\n",
    "print('data test - R-squared:', test_score)"
   ]
  },
  {
   "cell_type": "code",
   "execution_count": 65,
   "metadata": {},
   "outputs": [],
   "source": [
    "y_test_predict=regressor.predict(X_test)"
   ]
  },
  {
   "cell_type": "code",
   "execution_count": 76,
   "metadata": {},
   "outputs": [
    {
     "data": {
      "image/png": "[encoded data removed]",
      "text/plain": [
       "<Figure size 432x288 with 1 Axes>"
      ]
     },
     "metadata": {
      "needs_background": "light"
     },
     "output_type": "display_data"
    }
   ],
   "source": [
    "plt.scatter(X_train,y_train,color='black',label='training set')\n",
    "plt.plot(X_test,y_test_predict,color='red',linewidth=3,label='fitted line')\n",
    "plt.title('Nitrogen Prediction')\n",
    "plt.xlabel('Mean Hue')\n",
    "plt.ylabel('Nitrogen')\n",
    "plt.legend()\n",
    "plt.show()"
   ]
  },
  {
   "cell_type": "markdown",
   "metadata": {},
   "source": [
    "some point sit on the line but some are away from it. we can measure the distance between point to the line along the vertical line and this distance is referred to as residual or error. error is the difference between the obeserved value of the target and the predicted value. the closer the residual to 0 is the better our model is doing"
   ]
  },
  {
   "cell_type": "code",
   "execution_count": 64,
   "metadata": {},
   "outputs": [
    {
     "name": "stdout",
     "output_type": "stream",
     "text": [
      "[1.52405913 4.27055821 4.36004787 4.62615855 4.85750299 2.31261438]\n"
     ]
    }
   ],
   "source": [
    "print(y_test)"
   ]
  },
  {
   "cell_type": "code",
   "execution_count": 66,
   "metadata": {},
   "outputs": [
    {
     "name": "stdout",
     "output_type": "stream",
     "text": [
      "[2.21180756 5.25750384 4.34207587 4.23513853 3.67442411 2.41339794]\n"
     ]
    }
   ],
   "source": [
    "print(y_test_predict)"
   ]
  },
  {
   "cell_type": "markdown",
   "metadata": {},
   "source": [
    "Model matematis"
   ]
  },
  {
   "cell_type": "code",
   "execution_count": 118,
   "metadata": {},
   "outputs": [],
   "source": [
    "y_test_pre=m*X_test + b"
   ]
  },
  {
   "cell_type": "code",
   "execution_count": 119,
   "metadata": {},
   "outputs": [
    {
     "data": {
      "text/plain": [
       "array([[2.21180756],\n",
       "       [5.25750384],\n",
       "       [4.34207587],\n",
       "       [4.23513853],\n",
       "       [3.67442411],\n",
       "       [2.41339794]])"
      ]
     },
     "execution_count": 119,
     "metadata": {},
     "output_type": "execute_result"
    }
   ],
   "source": [
    "y_test_pre"
   ]
  },
  {
   "cell_type": "markdown",
   "metadata": {},
   "source": [
    "# Preharvest_DRIS (Diagnosis and Recommendation Integrated System) function"
   ]
  },
  {
   "cell_type": "markdown",
   "metadata": {},
   "source": [
    "1 week of harvest sample"
   ]
  },
  {
   "cell_type": "markdown",
   "metadata": {},
   "source": [
    "![](dris.jpg)"
   ]
  },
  {
   "cell_type": "code",
   "execution_count": 138,
   "metadata": {},
   "outputs": [],
   "source": [
    "def pre_harvest(y):\n",
    "    y=y*10\n",
    "    if y>=33  :\n",
    "        if y<=48 :\n",
    "            print(\"Optimum range\")\n",
    "        else:\n",
    "            print(\"lack of Nitrogen\")\n",
    "    else :\n",
    "        print(\"Deficiency\")"
   ]
  },
  {
   "cell_type": "code",
   "execution_count": 139,
   "metadata": {},
   "outputs": [
    {
     "name": "stdout",
     "output_type": "stream",
     "text": [
      "lack of Nitrogen\n"
     ]
    }
   ],
   "source": [
    "pre_harvest(5.25)"
   ]
  },
  {
   "cell_type": "code",
   "execution_count": 140,
   "metadata": {},
   "outputs": [
    {
     "name": "stdout",
     "output_type": "stream",
     "text": [
      "Deficiency\n"
     ]
    }
   ],
   "source": [
    "pre_harvest(2.41)"
   ]
  },
  {
   "cell_type": "code",
   "execution_count": 141,
   "metadata": {},
   "outputs": [
    {
     "name": "stdout",
     "output_type": "stream",
     "text": [
      "Optimum range\n"
     ]
    }
   ],
   "source": [
    "pre_harvest(4.34)"
   ]
  },
  {
   "cell_type": "markdown",
   "metadata": {},
   "source": [
    "# EarlyHeading_DRIS function"
   ]
  },
  {
   "cell_type": "markdown",
   "metadata": {},
   "source": [
    "leaf sample were collected at the early heading stage (about midseason)"
   ]
  },
  {
   "cell_type": "code",
   "execution_count": 142,
   "metadata": {},
   "outputs": [],
   "source": [
    "def early_heading(y):\n",
    "    y=y*10\n",
    "    if y>=43  :\n",
    "        if y<=56 :\n",
    "            print(\"Optimum range\")\n",
    "        else:\n",
    "            print(\"lack of Nitrogen\")\n",
    "    else :\n",
    "        print(\"Deficiency\")"
   ]
  },
  {
   "cell_type": "code",
   "execution_count": 143,
   "metadata": {},
   "outputs": [
    {
     "name": "stdout",
     "output_type": "stream",
     "text": [
      "Optimum range\n"
     ]
    }
   ],
   "source": [
    "early_heading(y_test_pre[1])"
   ]
  },
  {
   "cell_type": "code",
   "execution_count": 144,
   "metadata": {},
   "outputs": [
    {
     "name": "stdout",
     "output_type": "stream",
     "text": [
      "Deficiency\n"
     ]
    }
   ],
   "source": [
    "early_heading(y_test_pre[0])"
   ]
  },
  {
   "cell_type": "code",
   "execution_count": 146,
   "metadata": {},
   "outputs": [
    {
     "name": "stdout",
     "output_type": "stream",
     "text": [
      "lack of Nitrogen\n"
     ]
    }
   ],
   "source": [
    "early_heading(57)"
   ]
  },
  {
   "cell_type": "markdown",
   "metadata": {},
   "source": [
    "# Evaluate model"
   ]
  },
  {
   "cell_type": "markdown",
   "metadata": {},
   "source": [
    "Residual= error. by comparing the fitted line and the true obeservation int the test set"
   ]
  },
  {
   "cell_type": "code",
   "execution_count": 80,
   "metadata": {},
   "outputs": [
    {
     "data": {
      "image/png": "[encoded data removed]",
      "text/plain": [
       "<Figure size 432x288 with 1 Axes>"
      ]
     },
     "metadata": {
      "needs_background": "light"
     },
     "output_type": "display_data"
    }
   ],
   "source": [
    "residuals = y_test - y_test_predict\n",
    "\n",
    "# plot the residuals\n",
    "plt.scatter(X_test, residuals)\n",
    "# plot a horizontal line at y = 0\n",
    "plt.hlines(y = 0, \n",
    "  xmin = X_test.min(), xmax=X_test.max(),\n",
    "  linestyle='--')\n",
    "# set xlim\n",
    "#plt.xlim((4, 9))\n",
    "plt.xlabel('Mean Hue'); plt.ylabel('residuals')\n",
    "plt.show()"
   ]
  },
  {
   "cell_type": "markdown",
   "metadata": {},
   "source": [
    "residual plot can reveal bias from the model and statistical measures indicate goodness of fit"
   ]
  },
  {
   "cell_type": "code",
   "execution_count": 85,
   "metadata": {},
   "outputs": [
    {
     "data": {
      "text/plain": [
       "array([-0.68774843, -0.98694562,  0.01797199,  0.39102002,  1.18307888,\n",
       "       -0.10078355])"
      ]
     },
     "execution_count": 85,
     "metadata": {},
     "output_type": "execute_result"
    }
   ],
   "source": [
    "residuals #individual data points\n"
   ]
  },
  {
   "cell_type": "markdown",
   "metadata": {},
   "source": [
    "#for all data points. need a way to aggregate the residuals and just report one number as the metric. it\n",
    "#natural to take the average of all residual\n"
   ]
  },
  {
   "cell_type": "code",
   "execution_count": 87,
   "metadata": {},
   "outputs": [
    {
     "data": {
      "text/plain": [
       "-0.030567785636618033"
      ]
     },
     "execution_count": 87,
     "metadata": {},
     "output_type": "execute_result"
    }
   ],
   "source": [
    "residuals.mean()"
   ]
  },
  {
   "cell_type": "markdown",
   "metadata": {},
   "source": [
    "#is quite close to 0 but the problem is residual can be positive or negative .that's not an accurate metric. to solve this we take a squre of each residual then take the mean of squred. this called mean squared error (MSE)"
   ]
  },
  {
   "cell_type": "code",
   "execution_count": 89,
   "metadata": {},
   "outputs": [
    {
     "data": {
      "text/plain": [
       "0.5016853635202663"
      ]
     },
     "execution_count": 89,
     "metadata": {},
     "output_type": "execute_result"
    }
   ],
   "source": [
    "(residuals**2).mean()"
   ]
  },
  {
   "cell_type": "code",
   "execution_count": 115,
   "metadata": {},
   "outputs": [
    {
     "data": {
      "text/plain": [
       "0.5016853635202663"
      ]
     },
     "execution_count": 115,
     "metadata": {},
     "output_type": "execute_result"
    }
   ],
   "source": [
    "from sklearn.metrics import mean_squared_error\n",
    "mean_squared_error(y_test, y_test_predict) #to determine the best model when MSE is the lowest"
   ]
  },
  {
   "cell_type": "markdown",
   "metadata": {},
   "source": [
    "in general the smaller the MSE, the better. there is no absolute good or bad threshold. "
   ]
  },
  {
   "cell_type": "code",
   "execution_count": 94,
   "metadata": {},
   "outputs": [],
   "source": [
    "y_mean=y.mean()"
   ]
  },
  {
   "cell_type": "code",
   "execution_count": 95,
   "metadata": {},
   "outputs": [
    {
     "data": {
      "text/plain": [
       "3.6809489579444437"
      ]
     },
     "execution_count": 95,
     "metadata": {},
     "output_type": "execute_result"
    }
   ],
   "source": [
    "y_mean"
   ]
  },
  {
   "cell_type": "code",
   "execution_count": 96,
   "metadata": {},
   "outputs": [],
   "source": [
    "len_x=len(x)"
   ]
  },
  {
   "cell_type": "code",
   "execution_count": 97,
   "metadata": {},
   "outputs": [
    {
     "data": {
      "text/plain": [
       "18"
      ]
     },
     "execution_count": 97,
     "metadata": {},
     "output_type": "execute_result"
    }
   ],
   "source": [
    "len_x"
   ]
  },
  {
   "cell_type": "code",
   "execution_count": 98,
   "metadata": {},
   "outputs": [
    {
     "data": {
      "text/plain": [
       "9"
      ]
     },
     "execution_count": 98,
     "metadata": {},
     "output_type": "execute_result"
    }
   ],
   "source": [
    "abs(-9)"
   ]
  },
  {
   "cell_type": "code",
   "execution_count": 101,
   "metadata": {},
   "outputs": [],
   "source": [
    "import statistics"
   ]
  },
  {
   "cell_type": "code",
   "execution_count": 102,
   "metadata": {},
   "outputs": [
    {
     "data": {
      "text/plain": [
       "1.7580681743885866"
      ]
     },
     "execution_count": 102,
     "metadata": {},
     "output_type": "execute_result"
    }
   ],
   "source": [
    "var_iance=statistics.variance(y)"
   ]
  },
  {
   "cell_type": "code",
   "execution_count": 107,
   "metadata": {},
   "outputs": [
    {
     "data": {
      "text/plain": [
       "1.3259216320690248"
      ]
     },
     "execution_count": 107,
     "metadata": {},
     "output_type": "execute_result"
    }
   ],
   "source": [
    "statistics.stdev(y)"
   ]
  },
  {
   "cell_type": "markdown",
   "metadata": {},
   "source": [
    "to make the scale of errors to be the same as the scale of targets, room mean squared error (RMSE) is often used. it is the square root of MSE"
   ]
  },
  {
   "cell_type": "markdown",
   "metadata": {},
   "source": [
    "# Rsquared"
   ]
  },
  {
   "cell_type": "markdown",
   "metadata": {},
   "source": [
    "Evaluating Rsquared values in conjuction with residual plot quantifies model performance"
   ]
  },
  {
   "cell_type": "code",
   "execution_count": 108,
   "metadata": {},
   "outputs": [
    {
     "data": {
      "text/plain": [
       "0.6867077840424939"
      ]
     },
     "execution_count": 108,
     "metadata": {},
     "output_type": "execute_result"
    }
   ],
   "source": [
    "regressor.score(X_test,y_test)"
   ]
  },
  {
   "cell_type": "markdown",
   "metadata": {},
   "source": [
    "its the proportion of total variation explained by the model. aroun 68% of variability in the testing data is explained by our model. total variation is calculated as the sum of squares of the difference between the response and the mean of response "
   ]
  },
  {
   "cell_type": "code",
   "execution_count": 113,
   "metadata": {},
   "outputs": [],
   "source": [
    "#total variation \n",
    "p=((y_test-y_test.mean())**2).sum()\n"
   ]
  },
  {
   "cell_type": "markdown",
   "metadata": {},
   "source": [
    "the variation that the model fails to capture is computed as the sum of squares of residual"
   ]
  },
  {
   "cell_type": "code",
   "execution_count": 111,
   "metadata": {},
   "outputs": [],
   "source": [
    "z=(residuals**2).sum()"
   ]
  },
  {
   "cell_type": "markdown",
   "metadata": {},
   "source": [
    "the proportion of total variation from the data is"
   ]
  },
  {
   "cell_type": "code",
   "execution_count": 114,
   "metadata": {},
   "outputs": [
    {
     "data": {
      "text/plain": [
       "0.6867077840424939"
      ]
     },
     "execution_count": 114,
     "metadata": {},
     "output_type": "execute_result"
    }
   ],
   "source": [
    "1-(z/p)"
   ]
  },
  {
   "cell_type": "markdown",
   "metadata": {},
   "source": [
    "some feature could be random noise, thus hurt the interpretability of the model"
   ]
  },
  {
   "cell_type": "code",
   "execution_count": null,
   "metadata": {},
   "outputs": [],
   "source": []
  }
 ],
 "metadata": {
  "colab": {
   "name": "Untitled8.ipynb",
   "provenance": []
  },
  "kernelspec": {
   "display_name": "Python 3",
   "language": "python",
   "name": "python3"
  },
  "language_info": {
   "codemirror_mode": {
    "name": "ipython",
    "version": 3
   },
   "file_extension": ".py",
   "mimetype": "text/x-python",
   "name": "python",
   "nbconvert_exporter": "python",
   "pygments_lexer": "ipython3",
   "version": "3.7.4"
  }
 },
 "nbformat": 4,
 "nbformat_minor": 1
}
